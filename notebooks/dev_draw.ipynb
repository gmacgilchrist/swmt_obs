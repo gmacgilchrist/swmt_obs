{
 "cells": [
  {
   "cell_type": "code",
   "execution_count": 1,
   "id": "e4585ab0-ed67-497d-a43a-745ef5582ae5",
   "metadata": {},
   "outputs": [],
   "source": [
    "import xarray as xr"
   ]
  },
  {
   "cell_type": "code",
   "execution_count": 2,
   "id": "d5963afd-fe47-42cf-a920-ada146c8ef67",
   "metadata": {},
   "outputs": [],
   "source": [
    "rootdir = '/projects/SOCCOM/graemem/wmt/'\n",
    "target = 'ecco'\n",
    "salinity = 'ecco'\n",
    "basin = 'global'\n",
    "lstr = 'theta'"
   ]
  },
  {
   "cell_type": "code",
   "execution_count": null,
   "id": "94a1baea-9a63-4c04-8537-830a362af08a",
   "metadata": {},
   "outputs": [],
   "source": []
  }
 ],
 "metadata": {
  "kernelspec": {
   "display_name": "core [~/.conda/envs/core/]",
   "language": "python",
   "name": "conda_core"
  },
  "language_info": {
   "codemirror_mode": {
    "name": "ipython",
    "version": 3
   },
   "file_extension": ".py",
   "mimetype": "text/x-python",
   "name": "python",
   "nbconvert_exporter": "python",
   "pygments_lexer": "ipython3",
   "version": "3.10.5"
  }
 },
 "nbformat": 4,
 "nbformat_minor": 5
}
